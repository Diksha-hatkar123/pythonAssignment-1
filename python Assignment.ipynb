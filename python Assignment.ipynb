{
 "cells": [
  {
   "cell_type": "markdown",
   "id": "176d30b3",
   "metadata": {},
   "source": [
    "# write a program to print hellow world\n"
   ]
  },
  {
   "cell_type": "code",
   "execution_count": 1,
   "id": "cd48ab34",
   "metadata": {},
   "outputs": [
    {
     "name": "stdout",
     "output_type": "stream",
     "text": [
      "Hello World !\n"
     ]
    }
   ],
   "source": [
    "print(\"Hello World !\")"
   ]
  },
  {
   "cell_type": "markdown",
   "id": "fd8bcc42",
   "metadata": {},
   "source": [
    "# write a program to store one value in variable and print that variable"
   ]
  },
  {
   "cell_type": "code",
   "execution_count": 2,
   "id": "75f4c3f8",
   "metadata": {},
   "outputs": [
    {
     "name": "stdout",
     "output_type": "stream",
     "text": [
      "3\n"
     ]
    }
   ],
   "source": [
    "x=3\n",
    "print(x)"
   ]
  },
  {
   "cell_type": "markdown",
   "id": "25826589",
   "metadata": {},
   "source": [
    "# write a program to take value from user input and print that value"
   ]
  },
  {
   "cell_type": "code",
   "execution_count": 3,
   "id": "672dc8a0",
   "metadata": {},
   "outputs": [
    {
     "name": "stdout",
     "output_type": "stream",
     "text": [
      "enter your name: diksha\n"
     ]
    }
   ],
   "source": [
    "name = input(\"enter your name: \")# string input"
   ]
  },
  {
   "cell_type": "code",
   "execution_count": 6,
   "id": "d8bb8f65",
   "metadata": {},
   "outputs": [
    {
     "name": "stdout",
     "output_type": "stream",
     "text": [
      "enter your age:13\n"
     ]
    }
   ],
   "source": [
    "age = int(input(\"enter your age:\"))# int input"
   ]
  },
  {
   "cell_type": "markdown",
   "id": "3c4a9646",
   "metadata": {},
   "source": [
    "# write a program to do sum of two value"
   ]
  },
  {
   "cell_type": "code",
   "execution_count": 7,
   "id": "b663a2b0",
   "metadata": {},
   "outputs": [
    {
     "name": "stdout",
     "output_type": "stream",
     "text": [
      "25\n"
     ]
    }
   ],
   "source": [
    "x=12\n",
    "y=13\n",
    "sum=x+y\n",
    "print(sum)"
   ]
  },
  {
   "cell_type": "markdown",
   "id": "49315614",
   "metadata": {},
   "source": [
    "# write a program to do division using python"
   ]
  },
  {
   "cell_type": "code",
   "execution_count": 8,
   "id": "bafe6886",
   "metadata": {},
   "outputs": [
    {
     "name": "stdout",
     "output_type": "stream",
     "text": [
      "0.9230769230769231\n"
     ]
    }
   ],
   "source": [
    "x=12\n",
    "y=13\n",
    "div=x/y\n",
    "print(div)"
   ]
  },
  {
   "cell_type": "markdown",
   "id": "6533a9b5",
   "metadata": {},
   "source": [
    " # write a program to do multiple using python"
   ]
  },
  {
   "cell_type": "code",
   "execution_count": 9,
   "id": "b0594fe4",
   "metadata": {},
   "outputs": [
    {
     "name": "stdout",
     "output_type": "stream",
     "text": [
      "156\n"
     ]
    }
   ],
   "source": [
    "x=12\n",
    "y=13\n",
    "mul=x*y\n",
    "print(mul)"
   ]
  },
  {
   "cell_type": "markdown",
   "id": "2303e343",
   "metadata": {},
   "source": [
    "# write a program to find type of variable"
   ]
  },
  {
   "cell_type": "code",
   "execution_count": 3,
   "id": "1d16fc72",
   "metadata": {},
   "outputs": [
    {
     "name": "stdout",
     "output_type": "stream",
     "text": [
      "The type is :  <class 'str'>\n",
      "The type is :  <class 'int'>\n",
      "The type is :  <class 'float'>\n",
      "The type is :  <class 'list'>\n",
      "The type is :  <class 'tuple'>\n",
      "The type is :  <class 'dict'>\n",
      "The type is :  <class 'set'>\n"
     ]
    }
   ],
   "source": [
    "str1 = \"python\"\n",
    "vv = 100\n",
    "rr = 7.7\n",
    "list1 = [\"VK\", \"RS\", \"JB\", \"RP\"]\n",
    "stud_name = (\"A\", \"B\", \"C\", \"D\")\n",
    "std_age= {\"A\": \"a\", \"B\": \"b\", \"C\": \"c\", \"D\": \"d\"}\n",
    "lbw = {'Y', 'N', 'T', 'F'}\n",
    "\n",
    "print(\"The type is : \", type(str1))\n",
    "print(\"The type is : \", type(vv))\n",
    "print(\"The type is : \", type(rr))\n",
    "print(\"The type is : \", type(list1))\n",
    "print(\"The type is : \", type(stud_name))\n",
    "print(\"The type is : \", type(std_age))\n",
    "print(\"The type is : \", type(lbw))"
   ]
  },
  {
   "cell_type": "code",
   "execution_count": 6,
   "id": "cbe6dff9",
   "metadata": {},
   "outputs": [],
   "source": [
    "str = \"diksha\""
   ]
  },
  {
   "cell_type": "markdown",
   "id": "0d4fb270",
   "metadata": {},
   "source": [
    "# write a program to take two integer value from the user and to check both value are same"
   ]
  },
  {
   "cell_type": "code",
   "execution_count": 22,
   "id": "df0c801a",
   "metadata": {},
   "outputs": [
    {
     "name": "stdout",
     "output_type": "stream",
     "text": [
      "enter the value of a :11\n",
      "enter the value of b :11\n",
      "a is equals to b\n"
     ]
    }
   ],
   "source": [
    "a = input(\"enter the value of a :\")\n",
    "b = input(\"enter the value of b :\")\n",
    "if a==b:\n",
    "      print(\"a is equals to b\")\n",
    "else:\n",
    "      print(\"a is not equls to b\")"
   ]
  },
  {
   "cell_type": "markdown",
   "id": "ea92ca6c",
   "metadata": {},
   "source": [
    "# write a program whether the number is even or odd and print the message"
   ]
  },
  {
   "cell_type": "code",
   "execution_count": 8,
   "id": "84e6d3b2",
   "metadata": {},
   "outputs": [
    {
     "name": "stdout",
     "output_type": "stream",
     "text": [
      "Enter the number:22\n",
      "22 is Even\n"
     ]
    }
   ],
   "source": [
    "num = int(input(\"Enter the number:\"))\n",
    "if (num % 2) == 0:\n",
    "    print(\"{0} is Even\".format(num))\n",
    "else:\n",
    "    print(\"{0} is odd\" .format(num))"
   ]
  },
  {
   "cell_type": "code",
   "execution_count": 25,
   "id": "f7b57001",
   "metadata": {},
   "outputs": [
    {
     "name": "stdout",
     "output_type": "stream",
     "text": [
      "Enter the number:7\n",
      "7 is odd\n"
     ]
    }
   ],
   "source": [
    "num = int(input(\"Enter the number:\"))\n",
    "if (num % 2) == 0:\n",
    "    print(\"{0} is Even\".format(num))\n",
    "else:\n",
    "    print(\"{0} is odd\".format(num))"
   ]
  },
  {
   "cell_type": "markdown",
   "id": "7e408036",
   "metadata": {},
   "source": [
    "# greater than or less than"
   ]
  },
  {
   "cell_type": "code",
   "execution_count": 31,
   "id": "697f756c",
   "metadata": {},
   "outputs": [
    {
     "name": "stdout",
     "output_type": "stream",
     "text": [
      "Enter the value of a:10\n",
      "Enter the value of b:40\n",
      "b is  not greter than a\n"
     ]
    }
   ],
   "source": [
    "num = int(input(\"Enter the value of a:\"))\n",
    "num = int(input(\"Enter the value of b:\"))\n",
    "if (a>b):\n",
    "    print (\"a is greter than b\")\n",
    "else:\n",
    "    print (\"b is  not greter than a\")"
   ]
  },
  {
   "cell_type": "code",
   "execution_count": 32,
   "id": "e499fad3",
   "metadata": {},
   "outputs": [
    {
     "name": "stdout",
     "output_type": "stream",
     "text": [
      "1\n",
      "2\n",
      "3\n",
      "4\n",
      "5\n",
      "6\n",
      "7\n",
      "8\n",
      "9\n",
      "10\n"
     ]
    }
   ],
   "source": [
    "for i in range (1,11):\n",
    "    print (i)"
   ]
  },
  {
   "cell_type": "code",
   "execution_count": 36,
   "id": "3ebca7a4",
   "metadata": {},
   "outputs": [
    {
     "name": "stdout",
     "output_type": "stream",
     "text": [
      "10 \r\n",
      "9 \r\n",
      "8 \r\n",
      "7 \r\n",
      "6 \r\n",
      "5 \r\n",
      "4 \r\n",
      "3 \r\n",
      "2 \r\n",
      "1 \r\n"
     ]
    }
   ],
   "source": [
    "for i in range(10,0,-1):\n",
    "    print(i,end =' ')\n",
    "    print(\"\\r\")"
   ]
  },
  {
   "cell_type": "code",
   "execution_count": 37,
   "id": "bfc450c3",
   "metadata": {},
   "outputs": [
    {
     "name": "stdout",
     "output_type": "stream",
     "text": [
      "* \r\n",
      "* * \r\n",
      "* * * \r\n",
      "* * * * \r\n",
      "* * * * * \r\n"
     ]
    }
   ],
   "source": [
    "rows = 5\n",
    "for i in range(0, rows):\n",
    "    for j in range(0, i + 1):\n",
    "        print(\"*\", end=' ')\n",
    "    print(\"\\r\")"
   ]
  },
  {
   "cell_type": "markdown",
   "id": "eb8d04d8",
   "metadata": {},
   "source": [
    "# how to print the following half pyramid pattern of numbers\n",
    "\n",
    "1 \n",
    "1 2 \n",
    "1 2 3 \n",
    "1 2 3 4 \n",
    "1 2 3 4 5"
   ]
  },
  {
   "cell_type": "code",
   "execution_count": 38,
   "id": "920f9326",
   "metadata": {},
   "outputs": [
    {
     "name": "stdout",
     "output_type": "stream",
     "text": [
      "1 \n",
      "1 2 \n",
      "1 2 3 \n",
      "1 2 3 4 \n",
      "1 2 3 4 5 \n"
     ]
    }
   ],
   "source": [
    "rows = 5\n",
    "for i in range(1, rows + 1):\n",
    "    for j in range(1, i + 1):\n",
    "        print(j, end=' ')\n",
    "    print('')"
   ]
  },
  {
   "cell_type": "code",
   "execution_count": 39,
   "id": "c002d00b",
   "metadata": {},
   "outputs": [
    {
     "name": "stdout",
     "output_type": "stream",
     "text": [
      "HELLO PYTHON\n"
     ]
    }
   ],
   "source": [
    "text = \"hello python\".upper()\n",
    "print(text)"
   ]
  },
  {
   "cell_type": "code",
   "execution_count": 40,
   "id": "3014c584",
   "metadata": {},
   "outputs": [
    {
     "name": "stdout",
     "output_type": "stream",
     "text": [
      "hello python\n"
     ]
    }
   ],
   "source": [
    "text = \"HELLO PYTHON\".lower()\n",
    "print(text)"
   ]
  },
  {
   "cell_type": "markdown",
   "id": "8f9ef923",
   "metadata": {},
   "source": [
    "# write a program to remove the element \"3\" from the given list[1,2,3,4,5,6]\n"
   ]
  },
  {
   "cell_type": "code",
   "execution_count": 9,
   "id": "51b3df34",
   "metadata": {},
   "outputs": [
    {
     "name": "stdout",
     "output_type": "stream",
     "text": [
      "[1, 2, 3, 4, 5, 6]\n",
      "[1, 2, 4, 5, 6]\n"
     ]
    }
   ],
   "source": [
    "list1=[1,2,3,4,5,6]\n",
    "print(list1)\n",
    "list1.remove(3)\n",
    "print(list1)"
   ]
  },
  {
   "cell_type": "markdown",
   "id": "baeba4e7",
   "metadata": {},
   "source": [
    "# write a program to  insert the element \"python\" on index 2 the given list[\"java\"\"php\",\".net\",\"angular\"]"
   ]
  },
  {
   "cell_type": "code",
   "execution_count": 10,
   "id": "2535073a",
   "metadata": {},
   "outputs": [
    {
     "name": "stdout",
     "output_type": "stream",
     "text": [
      "['java', 'php', '.net', 'angular']\n",
      "['java', 'php', 'python', '.net', 'angular']\n"
     ]
    }
   ],
   "source": [
    "list1=[\"java\",\"php\",\".net\",\"angular\"]\n",
    "print(list1)\n",
    "list1.insert(2,\"python\")\n",
    "print(list1)"
   ]
  },
  {
   "cell_type": "markdown",
   "id": "03092cb0",
   "metadata": {},
   "source": [
    "# write program to add element in list using for loop"
   ]
  },
  {
   "cell_type": "code",
   "execution_count": 38,
   "id": "236ec64c",
   "metadata": {},
   "outputs": [
    {
     "data": {
      "text/plain": [
       "[0, 1, 2, 3, 4]"
      ]
     },
     "execution_count": 38,
     "metadata": {},
     "output_type": "execute_result"
    }
   ],
   "source": [
    "a=[]\n",
    "for i in range(5):    \n",
    "    a.append(i)\n",
    "a # the list with the new items."
   ]
  },
  {
   "cell_type": "markdown",
   "id": "f9bc080b",
   "metadata": {},
   "source": [
    "# given tuple (\"python\",1,2,3,\"java\"'A','B')\n"
   ]
  },
  {
   "cell_type": "code",
   "execution_count": 19,
   "id": "b61ed76a",
   "metadata": {},
   "outputs": [
    {
     "name": "stdout",
     "output_type": "stream",
     "text": [
      "(1, 2, 3, 'java')\n"
     ]
    }
   ],
   "source": [
    "# print value between index 1 to 5\n",
    "tup1=(\"python\",1,2,3,\"java\",'A','B')\n",
    "print(tup1[1:5])\n"
   ]
  },
  {
   "cell_type": "code",
   "execution_count": 20,
   "id": "bd8d4b1b",
   "metadata": {},
   "outputs": [
    {
     "name": "stdout",
     "output_type": "stream",
     "text": [
      "B\n"
     ]
    }
   ],
   "source": [
    "# print the last value of tuple\n",
    "tup2=(\"python\",1,2,3,\"java\",'A','B')\n",
    "print(tup2[-1])\n"
   ]
  },
  {
   "cell_type": "markdown",
   "id": "7dc5c743",
   "metadata": {},
   "source": [
    "# write a program to count element in the given tuple"
   ]
  },
  {
   "cell_type": "code",
   "execution_count": 2,
   "id": "a1bb44fb",
   "metadata": {},
   "outputs": [
    {
     "name": "stdout",
     "output_type": "stream",
     "text": [
      "(1, 2, 3, 4, 5, 6, 7, 8)\n"
     ]
    }
   ],
   "source": [
    "tup3=(1,2,3,4,5,6,7,8)\n",
    "print(tup3)"
   ]
  },
  {
   "cell_type": "markdown",
   "id": "903fcdfe",
   "metadata": {},
   "source": [
    "# write program to convert tuple into list"
   ]
  },
  {
   "cell_type": "code",
   "execution_count": 1,
   "id": "53ebeedd",
   "metadata": {},
   "outputs": [
    {
     "name": "stdout",
     "output_type": "stream",
     "text": [
      "<class 'list'>\n",
      "[44, False, 'python']\n"
     ]
    }
   ],
   "source": [
    "tup4 = (44, False, \"python\")\n",
    "list1 = list(tup4)\n",
    "print(type(list1))\n",
    "print(list1)"
   ]
  }
 ],
 "metadata": {
  "kernelspec": {
   "display_name": "Python 3 (ipykernel)",
   "language": "python",
   "name": "python3"
  },
  "language_info": {
   "codemirror_mode": {
    "name": "ipython",
    "version": 3
   },
   "file_extension": ".py",
   "mimetype": "text/x-python",
   "name": "python",
   "nbconvert_exporter": "python",
   "pygments_lexer": "ipython3",
   "version": "3.9.2"
  }
 },
 "nbformat": 4,
 "nbformat_minor": 5
}
