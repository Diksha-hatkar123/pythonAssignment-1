{
 "cells": [
  {
   "cell_type": "code",
   "execution_count": 2,
   "id": "77b4d3ee",
   "metadata": {},
   "outputs": [
    {
     "name": "stdout",
     "output_type": "stream",
     "text": [
      "Orange\n",
      "Banana\n",
      "Cherry\n"
     ]
    }
   ],
   "source": [
    "X,Y,Z = \"Orange\", \"Banana\", \"Cherry\"\n",
    "print(X)\n",
    "print(Y)\n",
    "print(Z)\n"
   ]
  },
  {
   "cell_type": "markdown",
   "id": "5c48a4cb",
   "metadata": {},
   "source": [
    "X = Y = Z = \"Orange\"\n",
    "print(X)\n",
    "print(Y)\n",
    "print(Z)\n"
   ]
  },
  {
   "cell_type": "markdown",
   "id": "49457d2b",
   "metadata": {},
   "source": [
    "# Unpack a collection"
   ]
  },
  {
   "cell_type": "code",
   "execution_count": 5,
   "id": "76aaa12c",
   "metadata": {},
   "outputs": [
    {
     "name": "stdout",
     "output_type": "stream",
     "text": [
      "Orange\n",
      "Banana\n",
      "Cherry\n"
     ]
    }
   ],
   "source": [
    "fruits = [\"Orange\",\"Banana\",\"Cherry\"]\n",
    "X,Y,Z = fruits\n",
    "print(X)\n",
    "print(Y)\n",
    "print(Z)"
   ]
  },
  {
   "cell_type": "markdown",
   "id": "c67df655",
   "metadata": {},
   "source": [
    "# Global Variable"
   ]
  },
  {
   "cell_type": "code",
   "execution_count": null,
   "id": "9db16c01",
   "metadata": {},
   "outputs": [],
   "source": [
    "X = \"awsome\"\n"
   ]
  },
  {
   "cell_type": "code",
   "execution_count": 6,
   "id": "cf15d1fc",
   "metadata": {},
   "outputs": [
    {
     "name": "stdout",
     "output_type": "stream",
     "text": [
      "Hello World\n"
     ]
    }
   ],
   "source": [
    "str1 = \"hello world\"\n",
    "print(str1.title())"
   ]
  },
  {
   "cell_type": "markdown",
   "id": "adaf1c8d",
   "metadata": {},
   "source": [
    "# output variables"
   ]
  },
  {
   "cell_type": "code",
   "execution_count": 7,
   "id": "28b7ca64",
   "metadata": {},
   "outputs": [
    {
     "name": "stdout",
     "output_type": "stream",
     "text": [
      "python is awsome\n"
     ]
    }
   ],
   "source": [
    "X = \"python\"\n",
    "Y = \"is\"\n",
    "Z = \"awsome\"\n",
    "print(X,Y,Z)\n"
   ]
  },
  {
   "cell_type": "markdown",
   "id": "f9b9f902",
   "metadata": {},
   "source": [
    "# string methods"
   ]
  },
  {
   "cell_type": "code",
   "execution_count": 5,
   "id": "863cdb64",
   "metadata": {},
   "outputs": [
    {
     "name": "stdout",
     "output_type": "stream",
     "text": [
      "Hello world\n"
     ]
    }
   ],
   "source": [
    "str1 = \"hello world\"\n",
    "print(str1.capitalize())"
   ]
  },
  {
   "cell_type": "raw",
   "id": "6f7710da",
   "metadata": {},
   "source": [
    "str1 = \"hello world\"\n",
    "print(str1.title())"
   ]
  },
  {
   "cell_type": "code",
   "execution_count": 7,
   "id": "d31a68aa",
   "metadata": {},
   "outputs": [
    {
     "name": "stdout",
     "output_type": "stream",
     "text": [
      "hello world\n"
     ]
    }
   ],
   "source": [
    "str1 = \"Hello World\"\n",
    "print(str1.casefold())"
   ]
  },
  {
   "cell_type": "code",
   "execution_count": 8,
   "id": "da3c629c",
   "metadata": {},
   "outputs": [
    {
     "name": "stdout",
     "output_type": "stream",
     "text": [
      "++++++++++++++++++++++Hello+++++++++++++++++++++++\n"
     ]
    }
   ],
   "source": [
    "str1 = \"Hello\"\n",
    "print(str1.center(50,\"+\"))"
   ]
  },
  {
   "cell_type": "code",
   "execution_count": 5,
   "id": "dc5dd3e1",
   "metadata": {},
   "outputs": [
    {
     "name": "stdout",
     "output_type": "stream",
     "text": [
      "('Hello student ', 'we', 'lcome in python')\n"
     ]
    }
   ],
   "source": [
    "str1 = \"Hello student welcome in python\"\n",
    "print(str1.partition(\"we\"))"
   ]
  },
  {
   "cell_type": "code",
   "execution_count": 7,
   "id": "56e50eff",
   "metadata": {},
   "outputs": [
    {
     "name": "stdout",
     "output_type": "stream",
     "text": [
      "llo student welcome in python\n"
     ]
    }
   ],
   "source": [
    "str1 = \"Hello student welcome in python\"\n",
    "print(str1.removeprefix(\"He\"))"
   ]
  },
  {
   "cell_type": "code",
   "execution_count": 9,
   "id": "73002e81",
   "metadata": {},
   "outputs": [
    {
     "name": "stdout",
     "output_type": "stream",
     "text": [
      "Hello student welcome in pyth\n"
     ]
    }
   ],
   "source": [
    "str1 = \"Hello student welcome in python\"\n",
    "print(str1.removesuffix(\"on\"))"
   ]
  },
  {
   "cell_type": "code",
   "execution_count": 10,
   "id": "3cf9c9d0",
   "metadata": {},
   "outputs": [
    {
     "name": "stdout",
     "output_type": "stream",
     "text": [
      "HellO student welcOme in pythOn\n"
     ]
    }
   ],
   "source": [
    "str1 = \"Hello student welcome in python\"\n",
    "print(str1.replace('o','O'))"
   ]
  },
  {
   "cell_type": "code",
   "execution_count": null,
   "id": "31aef410",
   "metadata": {},
   "outputs": [],
   "source": []
  },
  {
   "cell_type": "code",
   "execution_count": 11,
   "id": "dd50b9dd",
   "metadata": {},
   "outputs": [
    {
     "name": "stdout",
     "output_type": "stream",
     "text": [
      "['Hello student welcome ', 'n python']\n"
     ]
    }
   ],
   "source": [
    "str1 = \"Hello student welcome in python\"\n",
    "print(str1.split(\"i\"))"
   ]
  }
 ],
 "metadata": {
  "kernelspec": {
   "display_name": "Python 3 (ipykernel)",
   "language": "python",
   "name": "python3"
  },
  "language_info": {
   "codemirror_mode": {
    "name": "ipython",
    "version": 3
   },
   "file_extension": ".py",
   "mimetype": "text/x-python",
   "name": "python",
   "nbconvert_exporter": "python",
   "pygments_lexer": "ipython3",
   "version": "3.9.2"
  }
 },
 "nbformat": 4,
 "nbformat_minor": 5
}
